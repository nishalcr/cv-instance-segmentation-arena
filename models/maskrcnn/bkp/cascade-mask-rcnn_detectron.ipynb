{
 "cells": [
  {
   "cell_type": "code",
   "execution_count": null,
   "metadata": {},
   "outputs": [],
   "source": [
    "import torch\n",
    "from detectron2.engine import DefaultTrainer\n",
    "from detectron2.config import get_cfg\n",
    "from detectron2.data import DatasetCatalog, MetadataCatalog\n",
    "from detectron2.data.datasets import register_coco_instances\n",
    "from detectron2.utils.visualizer import Visualizer\n",
    "from detectron2.evaluation import COCOEvaluator, inference_on_dataset\n",
    "from detectron2.data import build_detection_test_loader\n",
    "import os\n",
    "import random\n",
    "import cv2\n",
    "import matplotlib.pyplot as plt\n",
    "\n",
    "# Ensure the output is displayed inline\n",
    "%matplotlib inline"
   ]
  },
  {
   "cell_type": "code",
   "execution_count": null,
   "metadata": {},
   "outputs": [],
   "source": [
    "# Replace with your paths to the COCO dataset\n",
    "coco_train_images = \"datasets/coco/train2017\"\n",
    "coco_train_annotations = \"datasets/coco/annotations/instances_train2017.json\"\n",
    "\n",
    "coco_val_images = \"datasets/coco/val2017\"\n",
    "coco_val_annotations = \"datasets/coco/annotations/instances_val2017.json\"\n",
    "\n",
    "# Optional: test dataset\n",
    "coco_test_images = \"datasets/coco/test2017\"\n",
    "coco_test_annotations = \"datasets/coco/annotations/instances_test2017.json\"\n",
    "\n",
    "# Register datasets\n",
    "register_coco_instances(\"coco_train\", {}, coco_train_annotations, coco_train_images)\n",
    "register_coco_instances(\"coco_val\", {}, coco_val_annotations, coco_val_images)\n",
    "\n",
    "# Optional: Test dataset registration\n",
    "register_coco_instances(\"coco_test\", {}, coco_test_annotations, coco_test_images)\n",
    "\n",
    "# Fetch metadata for visualization\n",
    "train_metadata = MetadataCatalog.get(\"coco_train\")\n",
    "val_metadata = MetadataCatalog.get(\"coco_val\")\n",
    "test_metadata = MetadataCatalog.get(\"coco_test\")\n"
   ]
  },
  {
   "cell_type": "code",
   "execution_count": null,
   "metadata": {},
   "outputs": [],
   "source": [
    "cfg = get_cfg()\n",
    "\n",
    "# Load the Cascade Mask R-CNN config file\n",
    "cfg.merge_from_file(\"detectron2/configs/COCO-InstanceSegmentation/cascade_mask_rcnn_R_50_FPN_3x.yaml\")\n",
    "\n",
    "# Set dataset paths\n",
    "cfg.DATASETS.TRAIN = (\"coco_train\",)\n",
    "cfg.DATASETS.TEST = (\"coco_val\",)  # For validation\n",
    "\n",
    "# Adjust workers and batch sizes\n",
    "cfg.DATALOADER.NUM_WORKERS = 2\n",
    "cfg.SOLVER.IMS_PER_BATCH = 2  # Batch size per iteration\n",
    "\n",
    "# Set the base learning rate and iterations\n",
    "cfg.SOLVER.BASE_LR = 0.0025\n",
    "cfg.SOLVER.MAX_ITER = 30000  # Set based on your needs\n",
    "\n",
    "# Specify model architecture parameters\n",
    "cfg.MODEL.WEIGHTS = \"detectron2://ImageNetPretrained/MSRA/R-50.pkl\"  # Pretrained weights\n",
    "cfg.MODEL.ROI_HEADS.BATCH_SIZE_PER_IMAGE = 512  # RoI head batch size\n",
    "cfg.MODEL.ROI_HEADS.NUM_CLASSES = 80  # COCO has 80 instance categories\n",
    "\n",
    "# Enable instance segmentation (masks)\n",
    "cfg.MODEL.MASK_ON = True\n",
    "\n",
    "# Set output directory to store model checkpoints and logs\n",
    "cfg.OUTPUT_DIR = \"./output_cascade_mask_rcnn\"\n",
    "os.makedirs(cfg.OUTPUT_DIR, exist_ok=True)\n"
   ]
  },
  {
   "cell_type": "code",
   "execution_count": null,
   "metadata": {},
   "outputs": [],
   "source": [
    "trainer = DefaultTrainer(cfg)\n",
    "trainer.resume_or_load(resume=False)\n",
    "trainer.train()"
   ]
  },
  {
   "cell_type": "code",
   "execution_count": null,
   "metadata": {},
   "outputs": [],
   "source": [
    "# COCO evaluator to measure performance\n",
    "evaluator = COCOEvaluator(\"coco_val\", cfg, False, output_dir=\"./output/\")\n",
    "val_loader = build_detection_test_loader(cfg, \"coco_val\")\n",
    "\n",
    "# Perform inference on the validation dataset\n",
    "inference_on_dataset(trainer.model, val_loader, evaluator)\n"
   ]
  },
  {
   "cell_type": "code",
   "execution_count": null,
   "metadata": {},
   "outputs": [],
   "source": [
    "# Visualize random validation samples with predictions\n",
    "dataset_dicts = DatasetCatalog.get(\"coco_val\")\n",
    "for d in random.sample(dataset_dicts, 3):  # Visualize 3 random samples\n",
    "    img = cv2.imread(d[\"file_name\"])\n",
    "    \n",
    "    # Use Visualizer to draw the predictions\n",
    "    visualizer = Visualizer(img[:, :, ::-1], metadata=val_metadata, scale=0.5)\n",
    "    vis = visualizer.draw_dataset_dict(d)\n",
    "    \n",
    "    # Display the image using matplotlib\n",
    "    plt.figure(figsize=(10, 10))\n",
    "    plt.imshow(vis.get_image()[:, :, ::-1])\n",
    "    plt.axis(\"off\")\n",
    "    plt.show()\n"
   ]
  },
  {
   "cell_type": "code",
   "execution_count": null,
   "metadata": {},
   "outputs": [],
   "source": [
    "# Save the model's last checkpoint\n",
    "trainer.checkpointer.save(\"cascade_mask_rcnn_final\")\n",
    "\n",
    "# Evaluate on the test dataset (optional)\n",
    "cfg.DATASETS.TEST = (\"coco_test\",)  # Use the test set\n",
    "test_loader = build_detection_test_loader(cfg, \"coco_test\")\n",
    "evaluator = COCOEvaluator(\"coco_test\", cfg, False, output_dir=\"./output/\")\n",
    "inference_on_dataset(trainer.model, test_loader, evaluator)"
   ]
  },
  {
   "cell_type": "code",
   "execution_count": null,
   "metadata": {},
   "outputs": [],
   "source": [
    "# Step 1: Install Required Libraries (Run this in a Jupyter Notebook cell)\n",
    "# !pip install 'git+https://github.com/facebookresearch/detectron2.git'\n",
    "\n",
    "# Step 2: Import Necessary Libraries\n",
    "import cv2\n",
    "import numpy as np\n",
    "import matplotlib.pyplot as plt\n",
    "from detectron2 import model_zoo\n",
    "from detectron2.config import get_cfg\n",
    "from detectron2.engine import DefaultPredictor\n",
    "from detectron2.utils.visualizer import Visualizer\n",
    "from detectron2.data import MetadataCatalog\n",
    "\n",
    "# Step 3: Set Up the Configuration\n",
    "cfg = get_cfg()\n",
    "cfg.merge_from_file(model_zoo.get_config_file(\"COCO-InstanceSegmentation/mask_rcnn_R_50_FPN_3x.yaml\"))\n",
    "cfg.MODEL.WEIGHTS = model_zoo.get_checkpoint_url(\"COCO-InstanceSegmentation/mask_rcnn_R_50_FPN_3x.yaml\")\n",
    "cfg.MODEL.ROI_HEADS.SCORE_THRESH_TEST = 0.5  # Set the threshold for this model\n",
    "\n",
    "# Step 4: Initialize the Predictor\n",
    "predictor = DefaultPredictor(cfg)\n",
    "\n",
    "# Step 5: Load an Image\n",
    "image_path = \"path/to/your/image.jpg\"  # Update this path to your image file\n",
    "image = cv2.imread(image_path)\n",
    "image = cv2.cvtColor(image, cv2.COLOR_BGR2RGB)  # Convert from BGR to RGB\n",
    "\n",
    "# Step 6: Run Inference\n",
    "outputs = predictor(image)\n",
    "\n",
    "# Step 7: Visualize the Predictions\n",
    "v = Visualizer(image, MetadataCatalog.get(cfg.DATASETS.TRAIN[0]), scale=1.2)\n",
    "v = v.draw_instance_predictions(outputs[\"instances\"].to(\"cpu\"))\n",
    "\n",
    "# Display the results\n",
    "plt.figure(figsize=(10, 10))\n",
    "plt.imshow(v.get_image())\n",
    "plt.axis('off')  # Turn off axis numbers and ticks\n",
    "plt.show()\n"
   ]
  }
 ],
 "metadata": {
  "kernelspec": {
   "display_name": "py_cvis",
   "language": "python",
   "name": "python3"
  },
  "language_info": {
   "codemirror_mode": {
    "name": "ipython",
    "version": 3
   },
   "file_extension": ".py",
   "mimetype": "text/x-python",
   "name": "python",
   "nbconvert_exporter": "python",
   "pygments_lexer": "ipython3",
   "version": "3.12.7"
  }
 },
 "nbformat": 4,
 "nbformat_minor": 2
}
