{
 "cells": [
  {
   "cell_type": "markdown",
   "metadata": {},
   "source": [
    "## 1. Setup and Import Libraries:"
   ]
  },
  {
   "cell_type": "code",
   "execution_count": null,
   "metadata": {
    "execution": {
     "iopub.execute_input": "2024-11-11T23:02:00.896411Z",
     "iopub.status.busy": "2024-11-11T23:02:00.896023Z",
     "iopub.status.idle": "2024-11-11T23:04:13.559493Z",
     "shell.execute_reply": "2024-11-11T23:04:13.558432Z",
     "shell.execute_reply.started": "2024-11-11T23:02:00.896382Z"
    },
    "trusted": true
   },
   "outputs": [],
   "source": [
    "!pip install 'git+https://github.com/facebookresearch/detectron2.git'"
   ]
  },
  {
   "cell_type": "code",
   "execution_count": null,
   "metadata": {
    "_cell_guid": "b1076dfc-b9ad-4769-8c92-a6c4dae69d19",
    "_uuid": "8f2839f25d086af736a60e9eeb907d3b93b6e0e5",
    "trusted": true
   },
   "outputs": [],
   "source": [
    "# Import libraries\n",
    "import os\n",
    "import cv2\n",
    "import torch\n",
    "from torch.cuda.amp import autocast, GradScaler\n",
    "from detectron2.engine import DefaultTrainer, DefaultPredictor\n",
    "from detectron2.config import get_cfg\n",
    "from detectron2 import model_zoo\n",
    "from detectron2.data import MetadataCatalog, DatasetCatalog\n",
    "from detectron2.data.datasets import register_coco_instances\n",
    "from detectron2.utils.visualizer import Visualizer\n",
    "import logging"
   ]
  },
  {
   "cell_type": "code",
   "execution_count": null,
   "metadata": {},
   "outputs": [],
   "source": [
    "# Set up logging\n",
    "logging.basicConfig(level=logging.INFO)\n",
    "logger = logging.getLogger(\"detectron2\")"
   ]
  },
  {
   "cell_type": "markdown",
   "metadata": {},
   "source": [
    "## 2. Register COCO Datasets (Training, Validation, Test):"
   ]
  },
  {
   "cell_type": "code",
   "execution_count": null,
   "metadata": {},
   "outputs": [],
   "source": [
    "# Register COCO dataset (Train and Validation)\n",
    "register_coco_instances(\"coco_train\", {}, \"/kaggle/input/mscoco/annotations_trainval2017/annotations/instances_train2017.json\", \"/kaggle/input/mscoco/train2017/train2017\")\n",
    "register_coco_instances(\"coco_val\", {}, \"/kaggle/input/mscoco/annotations_trainval2017/annotations/instances_val2017.json\", \"/kaggle/input/mscoco/val2017/val2017\")"
   ]
  },
  {
   "cell_type": "markdown",
   "metadata": {},
   "source": [
    "## 3. Configuration Setup:"
   ]
  },
  {
   "cell_type": "code",
   "execution_count": null,
   "metadata": {},
   "outputs": [],
   "source": [
    "cfg = get_cfg()\n",
    "\n",
    "# Load the Cascade Mask R-CNN configuration from the model zoo\n",
    "cfg.merge_from_file(model_zoo.get_config_file(\"Misc/cascade_mask_rcnn_R_50_FPN_3x.yaml\"))\n",
    "\n",
    "# --- Configuration for dataset ---\n",
    "cfg.DATASETS.TRAIN = (\"coco_train\",)  # Specify the training dataset\n",
    "cfg.DATASETS.TEST = (\"coco_val\",)    # Specify the validation dataset\n",
    "\n",
    "# --- DataLoader settings ---\n",
    "cfg.DATALOADER.NUM_WORKERS = 4  # Number of workers to load the data in parallel\n",
    "\n",
    "# --- Input settings ---\n",
    "cfg.INPUT.MIN_SIZE_TRAIN = (800,)  # Minimum size of images during training\n",
    "cfg.INPUT.MAX_SIZE_TRAIN = 1333  # Maximum size of images during training\n",
    "\n",
    "# --- Model weights ---\n",
    "# cfg.MODEL.WEIGHTS = \"detectron2://COCO-InstanceSegmentation/cascade_mask_rcnn_R_50_FPN_3x/137849600/model_final_f10217.pkl\" # Load pretrained weights from model zoo\n",
    "\n",
    "# --- Solver settings ---\n",
    "cfg.SOLVER.IMS_PER_BATCH = 8  # Batch size during training\n",
    "cfg.SOLVER.BASE_LR = 0.00025  # Learning rate for the optimizer\n",
    "cfg.SOLVER.MAX_ITER = 50000  # Total number of iterations for training\n",
    "\n",
    "# --- ROI Head settings ---\n",
    "cfg.MODEL.ROI_HEADS.BATCH_SIZE_PER_IMAGE = 512  # Number of proposals per image during training\n",
    "cfg.MODEL.ROI_HEADS.NUM_CLASSES = 80  # COCO dataset has 80 object classes\n",
    "\n",
    "# --- Output directory ---\n",
    "cfg.OUTPUT_DIR = \"/kaggle/working/output\"  # Directory to save model checkpoints, logs, and other outputs\n",
    "os.makedirs(cfg.OUTPUT_DIR, exist_ok=True)"
   ]
  },
  {
   "cell_type": "code",
   "execution_count": null,
   "metadata": {},
   "outputs": [],
   "source": [
    "device = torch.device(\"cuda\" if torch.cuda.is_available() else \"cpu\")\n",
    "logger.info(f\"Using device: {device}\")"
   ]
  },
  {
   "cell_type": "markdown",
   "metadata": {},
   "source": [
    "## 4. Train the Model:"
   ]
  },
  {
   "cell_type": "code",
   "execution_count": null,
   "metadata": {},
   "outputs": [],
   "source": [
    "# Initialize the trainer\n",
    "trainer = DefaultTrainer(cfg)\n",
    "trainer.model.to(device)  # Move model to GPU\n",
    "\n",
    "# Mixed precision setup\n",
    "scaler = GradScaler()\n",
    "\n",
    "# Log training start\n",
    "logger.info(\"Training started...\")\n",
    "\n",
    "# Training loop with mixed precision\n",
    "trainer.resume_or_load(resume=False)\n",
    "trainer.train()"
   ]
  },
  {
   "cell_type": "markdown",
   "metadata": {},
   "source": [
    "## 5. Testing the Model:"
   ]
  },
  {
   "cell_type": "code",
   "execution_count": null,
   "metadata": {},
   "outputs": [],
   "source": [
    "# # Testing the model after training and logging evaluation results\n",
    "# eval_results = trainer.test(cfg, trainer.model)\n",
    "# logger.info(\"Evaluation Results: %s\", eval_results)"
   ]
  },
  {
   "cell_type": "markdown",
   "metadata": {},
   "source": [
    "## 6. Sample Inference on a Single Image:"
   ]
  },
  {
   "cell_type": "code",
   "execution_count": null,
   "metadata": {},
   "outputs": [],
   "source": [
    "# # Set up the predictor for inference\n",
    "# predictor = DefaultPredictor(cfg)\n",
    "\n",
    "# # Load a sample image for inference (replace with actual test image path)\n",
    "# img = cv2.imread(\"/kaggle/input/mscoco/test2017/sample_image.jpg\")\n",
    "\n",
    "# # Run inference on the image\n",
    "# outputs = predictor(img)\n",
    "\n",
    "# # Visualize the predictions on the image\n",
    "# v = Visualizer(img[:, :, ::-1], metadata=MetadataCatalog.get(\"coco_train\"), scale=1.2)\n",
    "# out = v.draw_instance_predictions(outputs[\"instances\"].to(\"cpu\"))\n",
    "\n",
    "# # Save or display the output image\n",
    "# output_image_path = \"/kaggle/working/output/inference_result.jpg\"\n",
    "# cv2.imwrite(output_image_path, out.get_image()[:, :, ::-1])\n",
    "# logger.info(f\"Inference result saved at {output_image_path}\")"
   ]
  }
 ],
 "metadata": {
  "kaggle": {
   "accelerator": "nvidiaTeslaT4",
   "dataSources": [
    {
     "datasetId": 6063726,
     "sourceId": 9876831,
     "sourceType": "datasetVersion"
    }
   ],
   "dockerImageVersionId": 30787,
   "isGpuEnabled": true,
   "isInternetEnabled": true,
   "language": "python",
   "sourceType": "notebook"
  },
  "kernelspec": {
   "display_name": "base",
   "language": "python",
   "name": "python3"
  },
  "language_info": {
   "codemirror_mode": {
    "name": "ipython",
    "version": 3
   },
   "file_extension": ".py",
   "mimetype": "text/x-python",
   "name": "python",
   "nbconvert_exporter": "python",
   "pygments_lexer": "ipython3",
   "version": "3.12.4"
  }
 },
 "nbformat": 4,
 "nbformat_minor": 4
}
