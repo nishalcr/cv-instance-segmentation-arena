{
  "nbformat": 4,
  "nbformat_minor": 0,
  "metadata": {
    "colab": {
      "provenance": []
    },
    "kernelspec": {
      "name": "python3",
      "display_name": "Python 3"
    },
    "language_info": {
      "name": "python"
    }
  },
  "cells": [
    {
      "cell_type": "code",
      "source": [
        "!pip install 'git+https://github.com/facebookresearch/detectron2.git'"
      ],
      "metadata": {
        "id": "JG7oTZA_bUT7"
      },
      "execution_count": null,
      "outputs": []
    },
    {
      "cell_type": "code",
      "source": [
        "import os\n",
        "from detectron2.config import get_cfg\n",
        "from detectron2 import model_zoo\n",
        "from detectron2.engine import DefaultPredictor\n",
        "from detectron2.evaluation import COCOEvaluator, inference_on_dataset\n",
        "from detectron2.data import build_detection_test_loader, DatasetCatalog, MetadataCatalog\n",
        "from detectron2.data.datasets import register_coco_instances\n",
        "import json"
      ],
      "metadata": {
        "id": "d21Aui0zYOte"
      },
      "execution_count": null,
      "outputs": []
    },
    {
      "cell_type": "code",
      "source": [
        "# Register local path for the COCO validation dataset\n",
        "coco_val_path = \"/kaggle/input/mscoco/val2017/val2017\"\n",
        "coco_annotations_path = \"/kaggle/input/mscoco/annotations_trainval2017/annotations/instances_val2017.json\"\n",
        "\n",
        "register_coco_instances(\"coco_val\", {}, coco_annotations_path, coco_val_path)"
      ],
      "metadata": {
        "id": "R1ayVd1UZkW8"
      },
      "execution_count": null,
      "outputs": []
    },
    {
      "cell_type": "code",
      "source": [
        "# Function to setup config\n",
        "def setup_config(output_dir, weights_path=None):\n",
        "    cfg = get_cfg()\n",
        "    cfg.merge_from_file(model_zoo.get_config_file(\"Misc/cascade_mask_rcnn_R_50_FPN_3x.yaml\"))\n",
        "    cfg.MODEL.WEIGHTS = weights_path\n",
        "    cfg.MODEL.ROI_HEADS.NUM_CLASSES = 80\n",
        "    cfg.DATASETS.TEST = (\"coco_val\",)\n",
        "    cfg.OUTPUT_DIR = output_dir\n",
        "    os.makedirs(cfg.OUTPUT_DIR, exist_ok=True)\n",
        "    return cfg"
      ],
      "metadata": {
        "id": "gbfwo-28YQQm"
      },
      "execution_count": null,
      "outputs": []
    },
    {
      "cell_type": "code",
      "source": [
        "# Function to evaluate the model and save results\n",
        "def evaluate_and_save(cfg, evaluator_output_file):\n",
        "    model = DefaultPredictor(cfg).model\n",
        "    evaluator = COCOEvaluator(\"coco_val\", cfg, False, output_dir=cfg.OUTPUT_DIR)\n",
        "    val_loader = build_detection_test_loader(cfg, \"coco_val\")\n",
        "    print(f\"Evaluating model with weights: {cfg.MODEL.WEIGHTS}\")\n",
        "    metrics = inference_on_dataset(model, val_loader, evaluator)\n",
        "\n",
        "    # Save metrics to a JSON file\n",
        "    with open(evaluator_output_file, \"w\") as f:\n",
        "        json.dump(metrics, f, indent=4)\n",
        "\n",
        "    print(f\"Evaluation results saved to: {evaluator_output_file}\")\n",
        "    return metrics"
      ],
      "metadata": {
        "id": "zyZnqJVJYZzq"
      },
      "execution_count": null,
      "outputs": []
    },
    {
      "cell_type": "code",
      "execution_count": null,
      "metadata": {
        "id": "FvO-FlULX9Gy"
      },
      "outputs": [],
      "source": [
        "# Evaluate pre-trained model\n",
        "pretrained_cfg = setup_config(\n",
        "    output_dir=\"/kaggle/working/output_pretrained/\",\n",
        "    weights_path=model_zoo.get_checkpoint_url(\"Misc/cascade_mask_rcnn_R_50_FPN_3x.yaml\")\n",
        ")\n",
        "pretrained_metrics = evaluate_and_save(pretrained_cfg, \"pretrained_metrics.json\")\n",
        "\n",
        "# Load and display pre-trained metrics\n",
        "print(\"\\nPre-trained Model Metrics:\")\n",
        "print(json.dumps(pretrained_metrics, indent=4))"
      ]
    },
    {
      "cell_type": "code",
      "source": [
        "# Evaluate final trained model\n",
        "trained_cfg = setup_config(\n",
        "    output_dir=\"/kaggle/working/output_trained/\",\n",
        "    weights_path=\"/kaggle/input/model_final.pth\"\n",
        ")\n",
        "trained_metrics = evaluate_and_save(trained_cfg, \"trained_metrics.json\")\n",
        "\n",
        "# Load and display trained model metrics\n",
        "print(\"\\nTrained Model Metrics:\")\n",
        "print(json.dumps(trained_metrics, indent=4))"
      ],
      "metadata": {
        "id": "MYdQ5_wkYohW"
      },
      "execution_count": null,
      "outputs": []
    }
  ]
}