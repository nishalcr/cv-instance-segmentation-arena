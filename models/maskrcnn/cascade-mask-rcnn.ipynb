{
 "cells": [
  {
   "cell_type": "markdown",
   "id": "c1993c0c",
   "metadata": {},
   "source": [
    "# 40K"
   ]
  },
  {
   "cell_type": "markdown",
   "id": "eb5f07be",
   "metadata": {
    "papermill": {
     "duration": 0.004271,
     "end_time": "2024-11-12T05:41:14.899431",
     "exception": false,
     "start_time": "2024-11-12T05:41:14.895160",
     "status": "completed"
    },
    "tags": []
   },
   "source": [
    "## 1. Setup and Import Libraries:"
   ]
  },
  {
   "cell_type": "code",
   "execution_count": 1,
   "id": "76e2ff20",
   "metadata": {
    "execution": {
     "iopub.execute_input": "2024-11-12T05:41:14.908316Z",
     "iopub.status.busy": "2024-11-12T05:41:14.907967Z",
     "iopub.status.idle": "2024-11-12T05:43:16.747139Z",
     "shell.execute_reply": "2024-11-12T05:43:16.746194Z"
    },
    "papermill": {
     "duration": 121.846182,
     "end_time": "2024-11-12T05:43:16.749542",
     "exception": false,
     "start_time": "2024-11-12T05:41:14.903360",
     "status": "completed"
    },
    "tags": []
   },
   "outputs": [
    {
     "name": "stdout",
     "output_type": "stream",
     "text": [
      "Collecting git+https://github.com/facebookresearch/detectron2.git\r\n",
      "  Cloning https://github.com/facebookresearch/detectron2.git to /tmp/pip-req-build-rzu4iv8d\r\n",
      "  Running command git clone --filter=blob:none --quiet https://github.com/facebookresearch/detectron2.git /tmp/pip-req-build-rzu4iv8d\r\n",
      "  Resolved https://github.com/facebookresearch/detectron2.git to commit 9131ce0e5bc0c89904541bc0355d933ccd6acbfb\r\n",
      "  Preparing metadata (setup.py) ... \u001b[?25ldone\r\n",
      "\u001b[?25hRequirement already satisfied: Pillow>=7.1 in /opt/conda/lib/python3.10/site-packages (from detectron2==0.6) (10.3.0)\r\n",
      "Requirement already satisfied: matplotlib in /opt/conda/lib/python3.10/site-packages (from detectron2==0.6) (3.7.5)\r\n",
      "Collecting pycocotools>=2.0.2 (from detectron2==0.6)\r\n",
      "  Downloading pycocotools-2.0.8-cp310-cp310-manylinux_2_17_x86_64.manylinux2014_x86_64.whl.metadata (1.1 kB)\r\n",
      "Requirement already satisfied: termcolor>=1.1 in /opt/conda/lib/python3.10/site-packages (from detectron2==0.6) (2.4.0)\r\n",
      "Collecting yacs>=0.1.8 (from detectron2==0.6)\r\n",
      "  Downloading yacs-0.1.8-py3-none-any.whl.metadata (639 bytes)\r\n",
      "Requirement already satisfied: tabulate in /opt/conda/lib/python3.10/site-packages (from detectron2==0.6) (0.9.0)\r\n",
      "Requirement already satisfied: cloudpickle in /opt/conda/lib/python3.10/site-packages (from detectron2==0.6) (3.0.0)\r\n",
      "Requirement already satisfied: tqdm>4.29.0 in /opt/conda/lib/python3.10/site-packages (from detectron2==0.6) (4.66.4)\r\n",
      "Requirement already satisfied: tensorboard in /opt/conda/lib/python3.10/site-packages (from detectron2==0.6) (2.16.2)\r\n",
      "Collecting fvcore<0.1.6,>=0.1.5 (from detectron2==0.6)\r\n",
      "  Downloading fvcore-0.1.5.post20221221.tar.gz (50 kB)\r\n",
      "\u001b[2K     \u001b[90m━━━━━━━━━━━━━━━━━━━━━━━━━━━━━━━━━━━━━━━━\u001b[0m \u001b[32m50.2/50.2 kB\u001b[0m \u001b[31m1.8 MB/s\u001b[0m eta \u001b[36m0:00:00\u001b[0m\r\n",
      "\u001b[?25h  Preparing metadata (setup.py) ... \u001b[?25l-\b \bdone\r\n",
      "\u001b[?25hCollecting iopath<0.1.10,>=0.1.7 (from detectron2==0.6)\r\n",
      "  Downloading iopath-0.1.9-py3-none-any.whl.metadata (370 bytes)\r\n",
      "Collecting omegaconf<2.4,>=2.1 (from detectron2==0.6)\r\n",
      "  Downloading omegaconf-2.3.0-py3-none-any.whl.metadata (3.9 kB)\r\n",
      "Collecting hydra-core>=1.1 (from detectron2==0.6)\r\n",
      "  Downloading hydra_core-1.3.2-py3-none-any.whl.metadata (5.5 kB)\r\n",
      "Collecting black (from detectron2==0.6)\r\n",
      "  Downloading black-24.10.0-cp310-cp310-manylinux_2_17_x86_64.manylinux2014_x86_64.manylinux_2_28_x86_64.whl.metadata (79 kB)\r\n",
      "\u001b[2K     \u001b[90m━━━━━━━━━━━━━━━━━━━━━━━━━━━━━━━━━━━━━━━━\u001b[0m \u001b[32m79.2/79.2 kB\u001b[0m \u001b[31m3.4 MB/s\u001b[0m eta \u001b[36m0:00:00\u001b[0m\r\n",
      "\u001b[?25hRequirement already satisfied: packaging in /opt/conda/lib/python3.10/site-packages (from detectron2==0.6) (21.3)\r\n",
      "Requirement already satisfied: numpy in /opt/conda/lib/python3.10/site-packages (from fvcore<0.1.6,>=0.1.5->detectron2==0.6) (1.26.4)\r\n",
      "Requirement already satisfied: pyyaml>=5.1 in /opt/conda/lib/python3.10/site-packages (from fvcore<0.1.6,>=0.1.5->detectron2==0.6) (6.0.2)\r\n",
      "Collecting antlr4-python3-runtime==4.9.* (from hydra-core>=1.1->detectron2==0.6)\r\n",
      "  Downloading antlr4-python3-runtime-4.9.3.tar.gz (117 kB)\r\n",
      "\u001b[2K     \u001b[90m━━━━━━━━━━━━━━━━━━━━━━━━━━━━━━━━━━━━━━━\u001b[0m \u001b[32m117.0/117.0 kB\u001b[0m \u001b[31m9.9 MB/s\u001b[0m eta \u001b[36m0:00:00\u001b[0m\r\n",
      "\u001b[?25h  Preparing metadata (setup.py) ... \u001b[?25l-\b \bdone\r\n",
      "\u001b[?25hCollecting portalocker (from iopath<0.1.10,>=0.1.7->detectron2==0.6)\r\n",
      "  Downloading portalocker-2.10.1-py3-none-any.whl.metadata (8.5 kB)\r\n",
      "Requirement already satisfied: contourpy>=1.0.1 in /opt/conda/lib/python3.10/site-packages (from matplotlib->detectron2==0.6) (1.2.1)\r\n",
      "Requirement already satisfied: cycler>=0.10 in /opt/conda/lib/python3.10/site-packages (from matplotlib->detectron2==0.6) (0.12.1)\r\n",
      "Requirement already satisfied: fonttools>=4.22.0 in /opt/conda/lib/python3.10/site-packages (from matplotlib->detectron2==0.6) (4.53.0)\r\n",
      "Requirement already satisfied: kiwisolver>=1.0.1 in /opt/conda/lib/python3.10/site-packages (from matplotlib->detectron2==0.6) (1.4.5)\r\n",
      "Requirement already satisfied: pyparsing>=2.3.1 in /opt/conda/lib/python3.10/site-packages (from matplotlib->detectron2==0.6) (3.1.2)\r\n",
      "Requirement already satisfied: python-dateutil>=2.7 in /opt/conda/lib/python3.10/site-packages (from matplotlib->detectron2==0.6) (2.9.0.post0)\r\n",
      "Requirement already satisfied: click>=8.0.0 in /opt/conda/lib/python3.10/site-packages (from black->detectron2==0.6) (8.1.7)\r\n",
      "Requirement already satisfied: mypy-extensions>=0.4.3 in /opt/conda/lib/python3.10/site-packages (from black->detectron2==0.6) (1.0.0)\r\n",
      "Collecting packaging (from detectron2==0.6)\r\n",
      "  Downloading packaging-24.2-py3-none-any.whl.metadata (3.2 kB)\r\n",
      "Collecting pathspec>=0.9.0 (from black->detectron2==0.6)\r\n",
      "  Downloading pathspec-0.12.1-py3-none-any.whl.metadata (21 kB)\r\n",
      "Requirement already satisfied: platformdirs>=2 in /opt/conda/lib/python3.10/site-packages (from black->detectron2==0.6) (3.11.0)\r\n",
      "Requirement already satisfied: tomli>=1.1.0 in /opt/conda/lib/python3.10/site-packages (from black->detectron2==0.6) (2.0.1)\r\n",
      "Requirement already satisfied: typing-extensions>=4.0.1 in /opt/conda/lib/python3.10/site-packages (from black->detectron2==0.6) (4.12.2)\r\n",
      "Requirement already satisfied: absl-py>=0.4 in /opt/conda/lib/python3.10/site-packages (from tensorboard->detectron2==0.6) (1.4.0)\r\n",
      "Requirement already satisfied: grpcio>=1.48.2 in /opt/conda/lib/python3.10/site-packages (from tensorboard->detectron2==0.6) (1.62.2)\r\n",
      "Requirement already satisfied: markdown>=2.6.8 in /opt/conda/lib/python3.10/site-packages (from tensorboard->detectron2==0.6) (3.6)\r\n",
      "Requirement already satisfied: protobuf!=4.24.0,>=3.19.6 in /opt/conda/lib/python3.10/site-packages (from tensorboard->detectron2==0.6) (3.20.3)\r\n",
      "Requirement already satisfied: setuptools>=41.0.0 in /opt/conda/lib/python3.10/site-packages (from tensorboard->detectron2==0.6) (70.0.0)\r\n",
      "Requirement already satisfied: six>1.9 in /opt/conda/lib/python3.10/site-packages (from tensorboard->detectron2==0.6) (1.16.0)\r\n",
      "Requirement already satisfied: tensorboard-data-server<0.8.0,>=0.7.0 in /opt/conda/lib/python3.10/site-packages (from tensorboard->detectron2==0.6) (0.7.2)\r\n",
      "Requirement already satisfied: werkzeug>=1.0.1 in /opt/conda/lib/python3.10/site-packages (from tensorboard->detectron2==0.6) (3.0.4)\r\n",
      "Requirement already satisfied: MarkupSafe>=2.1.1 in /opt/conda/lib/python3.10/site-packages (from werkzeug>=1.0.1->tensorboard->detectron2==0.6) (2.1.5)\r\n",
      "Downloading hydra_core-1.3.2-py3-none-any.whl (154 kB)\r\n",
      "\u001b[2K   \u001b[90m━━━━━━━━━━━━━━━━━━━━━━━━━━━━━━━━━━━━━━━━\u001b[0m \u001b[32m154.5/154.5 kB\u001b[0m \u001b[31m11.6 MB/s\u001b[0m eta \u001b[36m0:00:00\u001b[0m\r\n",
      "\u001b[?25hDownloading iopath-0.1.9-py3-none-any.whl (27 kB)\r\n",
      "Downloading omegaconf-2.3.0-py3-none-any.whl (79 kB)\r\n",
      "\u001b[2K   \u001b[90m━━━━━━━━━━━━━━━━━━━━━━━━━━━━━━━━━━━━━━━━\u001b[0m \u001b[32m79.5/79.5 kB\u001b[0m \u001b[31m6.4 MB/s\u001b[0m eta \u001b[36m0:00:00\u001b[0m\r\n",
      "\u001b[?25hDownloading pycocotools-2.0.8-cp310-cp310-manylinux_2_17_x86_64.manylinux2014_x86_64.whl (427 kB)\r\n",
      "\u001b[2K   \u001b[90m━━━━━━━━━━━━━━━━━━━━━━━━━━━━━━━━━━━━━━━━\u001b[0m \u001b[32m427.8/427.8 kB\u001b[0m \u001b[31m15.5 MB/s\u001b[0m eta \u001b[36m0:00:00\u001b[0m\r\n",
      "\u001b[?25hDownloading yacs-0.1.8-py3-none-any.whl (14 kB)\r\n",
      "Downloading black-24.10.0-cp310-cp310-manylinux_2_17_x86_64.manylinux2014_x86_64.manylinux_2_28_x86_64.whl (1.8 MB)\r\n",
      "\u001b[2K   \u001b[90m━━━━━━━━━━━━━━━━━━━━━━━━━━━━━━━━━━━━━━━━\u001b[0m \u001b[32m1.8/1.8 MB\u001b[0m \u001b[31m53.5 MB/s\u001b[0m eta \u001b[36m0:00:00\u001b[0m\r\n",
      "\u001b[?25hDownloading packaging-24.2-py3-none-any.whl (65 kB)\r\n",
      "\u001b[2K   \u001b[90m━━━━━━━━━━━━━━━━━━━━━━━━━━━━━━━━━━━━━━━━\u001b[0m \u001b[32m65.5/65.5 kB\u001b[0m \u001b[31m5.6 MB/s\u001b[0m eta \u001b[36m0:00:00\u001b[0m\r\n",
      "\u001b[?25hDownloading pathspec-0.12.1-py3-none-any.whl (31 kB)\r\n",
      "Downloading portalocker-2.10.1-py3-none-any.whl (18 kB)\r\n",
      "Building wheels for collected packages: detectron2, fvcore, antlr4-python3-runtime\r\n",
      "  Building wheel for detectron2 (setup.py) ... \u001b[?25l-\b \b\\\b \b|\b \b/\b \b-\b \b\\\b \b|\b \b/\b \b-\b \b\\\b \b|\b \b/\b \b-\b \b\\\b \b|\b \bdone\r\n",
      "\u001b[?25h  Created wheel for detectron2: filename=detectron2-0.6-cp310-cp310-linux_x86_64.whl size=1262242 sha256=8ec2467d9bb853599841a389ba742ece38f8f20a913ffaa23dc5c7ddeae5b3b5\r\n",
      "  Stored in directory: /tmp/pip-ephem-wheel-cache-nsq6oecg/wheels/47/e5/15/94c80df2ba85500c5d76599cc307c0a7079d0e221bb6fc4375\r\n",
      "  Building wheel for fvcore (setup.py) ... \u001b[?25l-\b \b\\\b \bdone\r\n",
      "\u001b[?25h  Created wheel for fvcore: filename=fvcore-0.1.5.post20221221-py3-none-any.whl size=61400 sha256=df6627ca0e4872d34b506eb3c17529fbb7f3bfe7995c2c63f52d4e43eda4cc87\r\n",
      "  Stored in directory: /root/.cache/pip/wheels/01/c0/af/77c1cf53a1be9e42a52b48e5af2169d40ec2e89f7362489dd0\r\n",
      "  Building wheel for antlr4-python3-runtime (setup.py) ... \u001b[?25l-\b \b\\\b \bdone\r\n",
      "\u001b[?25h  Created wheel for antlr4-python3-runtime: filename=antlr4_python3_runtime-4.9.3-py3-none-any.whl size=144554 sha256=be56f3f0bb6dea58f480f7a95c1043645e1cfa372f76786866afcd46cc45c76a\r\n",
      "  Stored in directory: /root/.cache/pip/wheels/12/93/dd/1f6a127edc45659556564c5730f6d4e300888f4bca2d4c5a88\r\n",
      "Successfully built detectron2 fvcore antlr4-python3-runtime\r\n",
      "Installing collected packages: antlr4-python3-runtime, yacs, portalocker, pathspec, packaging, omegaconf, iopath, hydra-core, black, pycocotools, fvcore, detectron2\r\n",
      "  Attempting uninstall: packaging\r\n",
      "    Found existing installation: packaging 21.3\r\n",
      "    Uninstalling packaging-21.3:\r\n",
      "      Successfully uninstalled packaging-21.3\r\n",
      "\u001b[31mERROR: pip's dependency resolver does not currently take into account all the packages that are installed. This behaviour is the source of the following dependency conflicts.\r\n",
      "cudf 24.8.3 requires cubinlinker, which is not installed.\r\n",
      "cudf 24.8.3 requires cupy-cuda11x>=12.0.0, which is not installed.\r\n",
      "cudf 24.8.3 requires ptxcompiler, which is not installed.\r\n",
      "cuml 24.8.0 requires cupy-cuda11x>=12.0.0, which is not installed.\r\n",
      "dask-cudf 24.8.3 requires cupy-cuda11x>=12.0.0, which is not installed.\r\n",
      "cudf 24.8.3 requires cuda-python<12.0a0,>=11.7.1, but you have cuda-python 12.6.0 which is incompatible.\r\n",
      "distributed 2024.7.1 requires dask==2024.7.1, but you have dask 2024.9.1 which is incompatible.\r\n",
      "google-cloud-bigquery 2.34.4 requires packaging<22.0dev,>=14.3, but you have packaging 24.2 which is incompatible.\r\n",
      "jupyterlab 4.2.5 requires jupyter-lsp>=2.0.0, but you have jupyter-lsp 1.5.1 which is incompatible.\r\n",
      "jupyterlab-lsp 5.1.0 requires jupyter-lsp>=2.0.0, but you have jupyter-lsp 1.5.1 which is incompatible.\r\n",
      "libpysal 4.9.2 requires shapely>=2.0.1, but you have shapely 1.8.5.post1 which is incompatible.\r\n",
      "rapids-dask-dependency 24.8.0a0 requires dask==2024.7.1, but you have dask 2024.9.1 which is incompatible.\r\n",
      "ydata-profiling 4.10.0 requires scipy<1.14,>=1.4.1, but you have scipy 1.14.1 which is incompatible.\u001b[0m\u001b[31m\r\n",
      "\u001b[0mSuccessfully installed antlr4-python3-runtime-4.9.3 black-24.10.0 detectron2-0.6 fvcore-0.1.5.post20221221 hydra-core-1.3.2 iopath-0.1.9 omegaconf-2.3.0 packaging-24.2 pathspec-0.12.1 portalocker-2.10.1 pycocotools-2.0.8 yacs-0.1.8\r\n"
     ]
    }
   ],
   "source": [
    "!pip install 'git+https://github.com/facebookresearch/detectron2.git'"
   ]
  },
  {
   "cell_type": "code",
   "execution_count": 2,
   "id": "088aeac9",
   "metadata": {
    "_cell_guid": "b1076dfc-b9ad-4769-8c92-a6c4dae69d19",
    "_uuid": "8f2839f25d086af736a60e9eeb907d3b93b6e0e5",
    "execution": {
     "iopub.execute_input": "2024-11-12T05:43:16.770198Z",
     "iopub.status.busy": "2024-11-12T05:43:16.769584Z",
     "iopub.status.idle": "2024-11-12T05:43:20.823666Z",
     "shell.execute_reply": "2024-11-12T05:43:20.822892Z"
    },
    "papermill": {
     "duration": 4.066148,
     "end_time": "2024-11-12T05:43:20.825860",
     "exception": false,
     "start_time": "2024-11-12T05:43:16.759712",
     "status": "completed"
    },
    "tags": []
   },
   "outputs": [],
   "source": [
    "# Import libraries\n",
    "import os\n",
    "import cv2\n",
    "import torch\n",
    "from torch.cuda.amp import autocast, GradScaler\n",
    "from detectron2.engine import DefaultTrainer, DefaultPredictor\n",
    "from detectron2.config import get_cfg\n",
    "from detectron2 import model_zoo\n",
    "from detectron2.data import MetadataCatalog, DatasetCatalog\n",
    "from detectron2.data.datasets import register_coco_instances\n",
    "from detectron2.utils.visualizer import Visualizer\n",
    "import logging"
   ]
  },
  {
   "cell_type": "code",
   "execution_count": 3,
   "id": "45911741",
   "metadata": {
    "execution": {
     "iopub.execute_input": "2024-11-12T05:43:20.845244Z",
     "iopub.status.busy": "2024-11-12T05:43:20.844812Z",
     "iopub.status.idle": "2024-11-12T05:43:20.849194Z",
     "shell.execute_reply": "2024-11-12T05:43:20.848388Z"
    },
    "papermill": {
     "duration": 0.016036,
     "end_time": "2024-11-12T05:43:20.851048",
     "exception": false,
     "start_time": "2024-11-12T05:43:20.835012",
     "status": "completed"
    },
    "tags": []
   },
   "outputs": [],
   "source": [
    "# Set up logging\n",
    "logging.basicConfig(level=logging.INFO)\n",
    "logger = logging.getLogger(\"detectron2\")"
   ]
  },
  {
   "cell_type": "markdown",
   "id": "73173172",
   "metadata": {
    "papermill": {
     "duration": 0.008538,
     "end_time": "2024-11-12T05:43:20.868397",
     "exception": false,
     "start_time": "2024-11-12T05:43:20.859859",
     "status": "completed"
    },
    "tags": []
   },
   "source": [
    "## 2. Register COCO Datasets (Training, Validation, Test):"
   ]
  },
  {
   "cell_type": "code",
   "execution_count": 4,
   "id": "51912ff6",
   "metadata": {
    "execution": {
     "iopub.execute_input": "2024-11-12T05:43:20.887055Z",
     "iopub.status.busy": "2024-11-12T05:43:20.886760Z",
     "iopub.status.idle": "2024-11-12T05:43:20.890978Z",
     "shell.execute_reply": "2024-11-12T05:43:20.890183Z"
    },
    "papermill": {
     "duration": 0.015723,
     "end_time": "2024-11-12T05:43:20.892770",
     "exception": false,
     "start_time": "2024-11-12T05:43:20.877047",
     "status": "completed"
    },
    "tags": []
   },
   "outputs": [],
   "source": [
    "# Register COCO dataset (Train and Validation)\n",
    "register_coco_instances(\"coco_train\", {}, \"/kaggle/input/mscoco/annotations_trainval2017/annotations/instances_train2017.json\", \"/kaggle/input/mscoco/train2017/train2017\")\n",
    "register_coco_instances(\"coco_val\", {}, \"/kaggle/input/mscoco/annotations_trainval2017/annotations/instances_val2017.json\", \"/kaggle/input/mscoco/val2017/val2017\")"
   ]
  },
  {
   "cell_type": "markdown",
   "id": "ca8453ec",
   "metadata": {
    "papermill": {
     "duration": 0.008618,
     "end_time": "2024-11-12T05:43:20.910075",
     "exception": false,
     "start_time": "2024-11-12T05:43:20.901457",
     "status": "completed"
    },
    "tags": []
   },
   "source": [
    "## 3. Configuration Setup:"
   ]
  },
  {
   "cell_type": "code",
   "execution_count": 5,
   "id": "3a1e8214",
   "metadata": {
    "execution": {
     "iopub.execute_input": "2024-11-12T05:43:20.928581Z",
     "iopub.status.busy": "2024-11-12T05:43:20.928297Z",
     "iopub.status.idle": "2024-11-12T05:43:20.951770Z",
     "shell.execute_reply": "2024-11-12T05:43:20.951115Z"
    },
    "papermill": {
     "duration": 0.034976,
     "end_time": "2024-11-12T05:43:20.953670",
     "exception": false,
     "start_time": "2024-11-12T05:43:20.918694",
     "status": "completed"
    },
    "tags": []
   },
   "outputs": [],
   "source": [
    "cfg = get_cfg()\n",
    "\n",
    "# Load the Cascade Mask R-CNN configuration from the model zoo\n",
    "cfg.merge_from_file(model_zoo.get_config_file(\"Misc/cascade_mask_rcnn_R_50_FPN_3x.yaml\"))\n",
    "\n",
    "# --- Configuration for dataset ---\n",
    "cfg.DATASETS.TRAIN = (\"coco_train\",)  # Specify the training dataset\n",
    "cfg.DATASETS.TEST = (\"coco_val\",)    # Specify the validation dataset\n",
    "\n",
    "# --- DataLoader settings ---\n",
    "cfg.DATALOADER.NUM_WORKERS = 4  # Number of workers to load the data in parallel\n",
    "\n",
    "# --- Input settings ---\n",
    "cfg.INPUT.MIN_SIZE_TRAIN = (800,)  # Minimum size of images during training\n",
    "cfg.INPUT.MAX_SIZE_TRAIN = 1333  # Maximum size of images during training\n",
    "\n",
    "# --- Model weights ---\n",
    "# cfg.MODEL.WEIGHTS = \"detectron2://COCO-InstanceSegmentation/cascade_mask_rcnn_R_50_FPN_3x/137849600/model_final_f10217.pkl\" # Load pretrained weights from model zoo\n",
    "\n",
    "# --- Solver settings ---\n",
    "cfg.SOLVER.IMS_PER_BATCH = 4  # Batch size during training\n",
    "cfg.SOLVER.BASE_LR = 0.00025  # Learning rate for the optimizer\n",
    "cfg.SOLVER.MAX_ITER = 10000  # Total number of iterations for training\n",
    "\n",
    "# --- ROI Head settings ---\n",
    "cfg.MODEL.ROI_HEADS.BATCH_SIZE_PER_IMAGE = 512  # Number of proposals per image during training\n",
    "cfg.MODEL.ROI_HEADS.NUM_CLASSES = 80  # COCO dataset has 80 object classes\n",
    "\n",
    "# --- Output directory ---\n",
    "cfg.OUTPUT_DIR = \"/kaggle/working/output\"  # Directory to save model checkpoints, logs, and other outputs\n",
    "os.makedirs(cfg.OUTPUT_DIR, exist_ok=True)"
   ]
  },
  {
   "cell_type": "code",
   "execution_count": 6,
   "id": "97ef7555",
   "metadata": {
    "execution": {
     "iopub.execute_input": "2024-11-12T05:43:20.972374Z",
     "iopub.status.busy": "2024-11-12T05:43:20.972069Z",
     "iopub.status.idle": "2024-11-12T05:43:21.023710Z",
     "shell.execute_reply": "2024-11-12T05:43:21.022927Z"
    },
    "papermill": {
     "duration": 0.063064,
     "end_time": "2024-11-12T05:43:21.025583",
     "exception": false,
     "start_time": "2024-11-12T05:43:20.962519",
     "status": "completed"
    },
    "tags": []
   },
   "outputs": [],
   "source": [
    "device = torch.device(\"cuda\" if torch.cuda.is_available() else \"cpu\")\n",
    "logger.info(f\"Using device: {device}\")"
   ]
  },
  {
   "cell_type": "markdown",
   "id": "a259691f",
   "metadata": {
    "papermill": {
     "duration": 0.008494,
     "end_time": "2024-11-12T05:43:21.043026",
     "exception": false,
     "start_time": "2024-11-12T05:43:21.034532",
     "status": "completed"
    },
    "tags": []
   },
   "source": [
    "## 4. Train the Model:"
   ]
  },
  {
   "cell_type": "code",
   "execution_count": 7,
   "id": "a1be358c",
   "metadata": {
    "execution": {
     "iopub.execute_input": "2024-11-12T05:43:21.061575Z",
     "iopub.status.busy": "2024-11-12T05:43:21.061277Z",
     "iopub.status.idle": "2024-11-12T09:34:57.593982Z",
     "shell.execute_reply": "2024-11-12T09:34:57.593071Z"
    },
    "papermill": {
     "duration": 13896.545362,
     "end_time": "2024-11-12T09:34:57.597019",
     "exception": false,
     "start_time": "2024-11-12T05:43:21.051657",
     "status": "completed"
    },
    "tags": []
   },
   "outputs": [
    {
     "name": "stderr",
     "output_type": "stream",
     "text": [
      "/tmp/ipykernel_24/1446488714.py:6: FutureWarning: `torch.cuda.amp.GradScaler(args...)` is deprecated. Please use `torch.amp.GradScaler('cuda', args...)` instead.\n",
      "  scaler = GradScaler()\n",
      "R-50.pkl: 102MB [00:02, 47.3MB/s]                           \n",
      "/opt/conda/lib/python3.10/site-packages/torch/functional.py:513: UserWarning: torch.meshgrid: in an upcoming release, it will be required to pass the indexing argument. (Triggered internally at /usr/local/src/pytorch/aten/src/ATen/native/TensorShape.cpp:3609.)\n",
      "  return _VF.meshgrid(tensors, **kwargs)  # type: ignore[attr-defined]\n"
     ]
    }
   ],
   "source": [
    "# Initialize the trainer\n",
    "trainer = DefaultTrainer(cfg)\n",
    "trainer.model.to(device)  # Move model to GPU\n",
    "\n",
    "# Mixed precision setup\n",
    "scaler = GradScaler()\n",
    "\n",
    "# Log training start\n",
    "logger.info(\"Training started...\")\n",
    "\n",
    "# Training loop with mixed precision\n",
    "trainer.resume_or_load(resume=False)\n",
    "trainer.train()"
   ]
  },
  {
   "cell_type": "markdown",
   "id": "ee4bbb43",
   "metadata": {
    "papermill": {
     "duration": 0.010495,
     "end_time": "2024-11-12T09:34:57.619529",
     "exception": false,
     "start_time": "2024-11-12T09:34:57.609034",
     "status": "completed"
    },
    "tags": []
   },
   "source": [
    "## 5. Testing the Model:"
   ]
  },
  {
   "cell_type": "code",
   "execution_count": 8,
   "id": "ab63d1d9",
   "metadata": {
    "execution": {
     "iopub.execute_input": "2024-11-12T09:34:57.642810Z",
     "iopub.status.busy": "2024-11-12T09:34:57.641812Z",
     "iopub.status.idle": "2024-11-12T09:34:57.646101Z",
     "shell.execute_reply": "2024-11-12T09:34:57.645290Z"
    },
    "papermill": {
     "duration": 0.017819,
     "end_time": "2024-11-12T09:34:57.647929",
     "exception": false,
     "start_time": "2024-11-12T09:34:57.630110",
     "status": "completed"
    },
    "tags": []
   },
   "outputs": [],
   "source": [
    "# # Testing the model after training and logging evaluation results\n",
    "# eval_results = trainer.test(cfg, trainer.model)\n",
    "# logger.info(\"Evaluation Results: %s\", eval_results)"
   ]
  },
  {
   "cell_type": "markdown",
   "id": "05d410d8",
   "metadata": {
    "papermill": {
     "duration": 0.010329,
     "end_time": "2024-11-12T09:34:57.669085",
     "exception": false,
     "start_time": "2024-11-12T09:34:57.658756",
     "status": "completed"
    },
    "tags": []
   },
   "source": [
    "## 6. Sample Inference on a Single Image:"
   ]
  },
  {
   "cell_type": "code",
   "execution_count": 9,
   "id": "1193bf34",
   "metadata": {
    "execution": {
     "iopub.execute_input": "2024-11-12T09:34:57.691578Z",
     "iopub.status.busy": "2024-11-12T09:34:57.691099Z",
     "iopub.status.idle": "2024-11-12T09:34:57.695351Z",
     "shell.execute_reply": "2024-11-12T09:34:57.694548Z"
    },
    "papermill": {
     "duration": 0.017466,
     "end_time": "2024-11-12T09:34:57.697182",
     "exception": false,
     "start_time": "2024-11-12T09:34:57.679716",
     "status": "completed"
    },
    "tags": []
   },
   "outputs": [],
   "source": [
    "# # Set up the predictor for inference\n",
    "# predictor = DefaultPredictor(cfg)\n",
    "\n",
    "# # Load a sample image for inference (replace with actual test image path)\n",
    "# img = cv2.imread(\"/kaggle/input/mscoco/test2017/sample_image.jpg\")\n",
    "\n",
    "# # Run inference on the image\n",
    "# outputs = predictor(img)\n",
    "\n",
    "# # Visualize the predictions on the image\n",
    "# v = Visualizer(img[:, :, ::-1], metadata=MetadataCatalog.get(\"coco_train\"), scale=1.2)\n",
    "# out = v.draw_instance_predictions(outputs[\"instances\"].to(\"cpu\"))\n",
    "\n",
    "# # Save or display the output image\n",
    "# output_image_path = \"/kaggle/working/output/inference_result.jpg\"\n",
    "# cv2.imwrite(output_image_path, out.get_image()[:, :, ::-1])\n",
    "# logger.info(f\"Inference result saved at {output_image_path}\")"
   ]
  }
 ],
 "metadata": {
  "kaggle": {
   "accelerator": "nvidiaTeslaT4",
   "dataSources": [
    {
     "datasetId": 6063726,
     "sourceId": 9876831,
     "sourceType": "datasetVersion"
    }
   ],
   "dockerImageVersionId": 30787,
   "isGpuEnabled": true,
   "isInternetEnabled": true,
   "language": "python",
   "sourceType": "notebook"
  },
  "kernelspec": {
   "display_name": "Python 3",
   "language": "python",
   "name": "python3"
  },
  "language_info": {
   "codemirror_mode": {
    "name": "ipython",
    "version": 3
   },
   "file_extension": ".py",
   "mimetype": "text/x-python",
   "name": "python",
   "nbconvert_exporter": "python",
   "pygments_lexer": "ipython3",
   "version": "3.10.14"
  },
  "papermill": {
   "default_parameters": {},
   "duration": 14028.429864,
   "end_time": "2024-11-12T09:35:00.526758",
   "environment_variables": {},
   "exception": null,
   "input_path": "__notebook__.ipynb",
   "output_path": "__notebook__.ipynb",
   "parameters": {},
   "start_time": "2024-11-12T05:41:12.096894",
   "version": "2.6.0"
  }
 },
 "nbformat": 4,
 "nbformat_minor": 5
}
